{
  "nbformat": 4,
  "nbformat_minor": 0,
  "metadata": {
    "colab": {
      "provenance": []
    },
    "kernelspec": {
      "name": "python3",
      "display_name": "Python 3"
    },
    "language_info": {
      "name": "python"
    }
  },
  "cells": [
    {
      "cell_type": "code",
      "source": [
        "pip install speechbrain"
      ],
      "metadata": {
        "colab": {
          "base_uri": "https://localhost:8080/"
        },
        "id": "NxMrEYgFb691",
        "outputId": "56a87604-36fd-4e7c-8ea9-e55c838fd839"
      },
      "execution_count": null,
      "outputs": [
        {
          "output_type": "stream",
          "name": "stdout",
          "text": [
            "Requirement already satisfied: speechbrain in /usr/local/lib/python3.10/dist-packages (0.5.15)\n",
            "Requirement already satisfied: hyperpyyaml in /usr/local/lib/python3.10/dist-packages (from speechbrain) (1.2.2)\n",
            "Requirement already satisfied: joblib in /usr/local/lib/python3.10/dist-packages (from speechbrain) (1.3.2)\n",
            "Requirement already satisfied: numpy in /usr/local/lib/python3.10/dist-packages (from speechbrain) (1.23.5)\n",
            "Requirement already satisfied: packaging in /usr/local/lib/python3.10/dist-packages (from speechbrain) (23.1)\n",
            "Requirement already satisfied: scipy in /usr/local/lib/python3.10/dist-packages (from speechbrain) (1.11.2)\n",
            "Requirement already satisfied: sentencepiece in /usr/local/lib/python3.10/dist-packages (from speechbrain) (0.1.99)\n",
            "Requirement already satisfied: torch>=1.9 in /usr/local/lib/python3.10/dist-packages (from speechbrain) (2.0.1+cu118)\n",
            "Requirement already satisfied: torchaudio in /usr/local/lib/python3.10/dist-packages (from speechbrain) (2.0.2+cu118)\n",
            "Requirement already satisfied: tqdm in /usr/local/lib/python3.10/dist-packages (from speechbrain) (4.66.1)\n",
            "Requirement already satisfied: huggingface-hub in /usr/local/lib/python3.10/dist-packages (from speechbrain) (0.17.3)\n",
            "Requirement already satisfied: filelock in /usr/local/lib/python3.10/dist-packages (from torch>=1.9->speechbrain) (3.12.2)\n",
            "Requirement already satisfied: typing-extensions in /usr/local/lib/python3.10/dist-packages (from torch>=1.9->speechbrain) (4.5.0)\n",
            "Requirement already satisfied: sympy in /usr/local/lib/python3.10/dist-packages (from torch>=1.9->speechbrain) (1.12)\n",
            "Requirement already satisfied: networkx in /usr/local/lib/python3.10/dist-packages (from torch>=1.9->speechbrain) (3.1)\n",
            "Requirement already satisfied: jinja2 in /usr/local/lib/python3.10/dist-packages (from torch>=1.9->speechbrain) (3.1.2)\n",
            "Requirement already satisfied: triton==2.0.0 in /usr/local/lib/python3.10/dist-packages (from torch>=1.9->speechbrain) (2.0.0)\n",
            "Requirement already satisfied: cmake in /usr/local/lib/python3.10/dist-packages (from triton==2.0.0->torch>=1.9->speechbrain) (3.27.4.1)\n",
            "Requirement already satisfied: lit in /usr/local/lib/python3.10/dist-packages (from triton==2.0.0->torch>=1.9->speechbrain) (16.0.6)\n",
            "Requirement already satisfied: fsspec in /usr/local/lib/python3.10/dist-packages (from huggingface-hub->speechbrain) (2023.6.0)\n",
            "Requirement already satisfied: requests in /usr/local/lib/python3.10/dist-packages (from huggingface-hub->speechbrain) (2.31.0)\n",
            "Requirement already satisfied: pyyaml>=5.1 in /usr/local/lib/python3.10/dist-packages (from huggingface-hub->speechbrain) (6.0.1)\n",
            "Requirement already satisfied: ruamel.yaml>=0.17.28 in /usr/local/lib/python3.10/dist-packages (from hyperpyyaml->speechbrain) (0.17.32)\n",
            "Requirement already satisfied: ruamel.yaml.clib>=0.2.7 in /usr/local/lib/python3.10/dist-packages (from ruamel.yaml>=0.17.28->hyperpyyaml->speechbrain) (0.2.7)\n",
            "Requirement already satisfied: MarkupSafe>=2.0 in /usr/local/lib/python3.10/dist-packages (from jinja2->torch>=1.9->speechbrain) (2.1.3)\n",
            "Requirement already satisfied: charset-normalizer<4,>=2 in /usr/local/lib/python3.10/dist-packages (from requests->huggingface-hub->speechbrain) (3.2.0)\n",
            "Requirement already satisfied: idna<4,>=2.5 in /usr/local/lib/python3.10/dist-packages (from requests->huggingface-hub->speechbrain) (3.4)\n",
            "Requirement already satisfied: urllib3<3,>=1.21.1 in /usr/local/lib/python3.10/dist-packages (from requests->huggingface-hub->speechbrain) (2.0.4)\n",
            "Requirement already satisfied: certifi>=2017.4.17 in /usr/local/lib/python3.10/dist-packages (from requests->huggingface-hub->speechbrain) (2023.7.22)\n",
            "Requirement already satisfied: mpmath>=0.19 in /usr/local/lib/python3.10/dist-packages (from sympy->torch>=1.9->speechbrain) (1.3.0)\n"
          ]
        }
      ]
    },
    {
      "cell_type": "code",
      "source": [
        "#Conservative spectral Gatting\n",
        "\n",
        "# Re-importing necessary libraries and redefining the functions\n",
        "import librosa\n",
        "import numpy as np\n",
        "from scipy.signal import stft, istft\n",
        "from scipy.io.wavfile import write\n",
        "\n",
        "\n",
        "# Redefining the noise reduction and normalization functions\n",
        "def conservative_spectral_gating_noise_reduction(signal, noise_segment, n_fft=2048, hop_length=512, alpha=0.3):\n",
        "    _, _, Zxx = stft(signal, nperseg=n_fft, noverlap=hop_length)\n",
        "    _, _, Zxx_noise = stft(noise_segment, nperseg=n_fft, noverlap=hop_length)\n",
        "    noise_mean = np.mean(np.abs(Zxx_noise), axis=1)\n",
        "    gain = np.maximum(1 - alpha * (noise_mean[:, np.newaxis] / (np.abs(Zxx) + 1e-10)), 0)\n",
        "    Zxx_reduced = gain * Zxx\n",
        "    _, reduced_signal = istft(Zxx_reduced, noverlap=hop_length)\n",
        "    reduced_signal *= np.linalg.norm(signal) / np.linalg.norm(reduced_signal)\n",
        "    return reduced_signal\n",
        "\n",
        "\n",
        "def normalize_audio(input_signal, target_rms=0.1):\n",
        "    current_rms = np.sqrt(np.mean(np.square(input_signal)))\n",
        "    if current_rms == 0:\n",
        "        return input_signal\n",
        "    factor = target_rms / current_rms\n",
        "    normalized_audio = input_signal * factor\n",
        "    return normalized_audio\n",
        "\n",
        "\n",
        "# Load the uploaded file again\n",
        "file_path = '/content/drive/MyDrive/Category 2/Wrong Denoised Diarization/BEA63649-C453-4D44-8551-33EA9191697E.wav'\n",
        "signal, sr = librosa.load(file_path, sr=None)\n",
        "\n",
        "# Assume the first second of the audio is representative of the noise in the file.\n",
        "noise_segment = signal[:sr]  # First second for noise\n",
        "\n",
        "# Apply the conservative spectral gating noise reduction method again\n",
        "conservative_spectral_reduced_audio = conservative_spectral_gating_noise_reduction(signal, noise_segment)\n",
        "\n",
        "# Normalize the amplitude of the reduced audio again\n",
        "conservative_spectral_normalized_audio = normalize_audio(conservative_spectral_reduced_audio)\n",
        "\n",
        "# Save the processed audio to a new file again\n",
        "conservative_processed_file_path = '/content/drive/MyDrive/combined/2.wav'\n",
        "write(conservative_processed_file_path, sr, conservative_spectral_normalized_audio.astype(np.float32))\n",
        "\n",
        "# Provide the path to the processed file\n",
        "conservative_processed_file_path"
      ],
      "metadata": {
        "colab": {
          "base_uri": "https://localhost:8080/",
          "height": 36
        },
        "id": "H3vJsoymQ9DS",
        "outputId": "16241552-5b1b-4db6-a9de-aa6a757c12a0"
      },
      "execution_count": null,
      "outputs": [
        {
          "output_type": "execute_result",
          "data": {
            "text/plain": [
              "'/content/drive/MyDrive/combined/2.wav'"
            ],
            "application/vnd.google.colaboratory.intrinsic+json": {
              "type": "string"
            }
          },
          "metadata": {},
          "execution_count": 4
        }
      ]
    }
  ]
}